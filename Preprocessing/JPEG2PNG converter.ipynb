{
 "cells": [
  {
   "cell_type": "markdown",
   "metadata": {},
   "source": [
    "<img src=\"https://github.com/PKhosravi-CityTech/LightCnnRad/raw/main/Images/BioMindLogo.png\" alt=\"BioMind AI Lab Logo\" width=\"150\" height=\"150\" align=\"left\" style=\"margin-bottom: 40px;\"> **Repository Developed by Pegah Khosravi, Principal Investigator of the BioMind AI Lab**\n",
    "\n",
    "Welcome to this repository! This repository is a result of collaborative efforts from our dedicated team at the lab. We are committed to advancing the field of biomedical AI and pushing the boundaries of medical data analysis. Your interest and contributions to our work are greatly appreciated. For more information about our lab and ongoing projects, please visit the [BioMind AI Lab website](https://sites.google.com/view/biomind-ai-lab). Thank you for your interest and support!"
   ]
  },
  {
   "cell_type": "markdown",
   "metadata": {},
   "source": [
    "This code converts .jpg images to PNG format"
   ]
  },
  {
   "cell_type": "code",
   "execution_count": null,
   "metadata": {},
   "outputs": [],
   "source": [
    "import os\n",
    "from PIL import Image\n",
    "\n",
    "# Specify the directory containing .jpg images\n",
    "directory = 'Datasets/X-ray Pneumonia/Validation/Pneumonia'\n",
    "\n",
    "\n",
    "for filename in os.listdir(directory):\n",
    "    if filename.endswith(\".jpg\") or filename.endswith(\".jpeg\"):\n",
    "        # Open the .jpg image\n",
    "        img_path = os.path.join(directory, filename)\n",
    "        img = Image.open(img_path)\n",
    "\n",
    "        png_filename = os.path.splitext(filename)[0] + '.png'\n",
    "        png_path = os.path.join(directory, png_filename)\n",
    "        \n",
    "        img.save(png_path, 'PNG')\n",
    "\n",
    "        os.remove(img_path)\n",
    "\n",
    "        print(f\"Converted and replaced {filename} with {png_filename}\")\n",
    "\n",
    "print(\"All .jpg images have been converted to .png format and the original files have been replaced.\")\n"
   ]
  }
 ],
 "metadata": {
  "language_info": {
   "name": "python"
  }
 },
 "nbformat": 4,
 "nbformat_minor": 2
}
