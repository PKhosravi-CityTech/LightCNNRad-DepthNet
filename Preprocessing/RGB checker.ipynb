{
 "cells": [
  {
   "cell_type": "markdown",
   "metadata": {},
   "source": [
    "<img src=\"https://github.com/PKhosravi-CityTech/LightCnnRad/raw/main/Images/BioMindLogo.png\" alt=\"BioMind AI Lab Logo\" width=\"150\" height=\"150\" align=\"left\" style=\"margin-bottom: 40px;\"> **Repository Developed by Pegah Khosravi, Principal Investigator of the BioMind AI Lab**\n",
    "\n",
    "Welcome to this repository! This repository is a result of collaborative efforts from our dedicated team at the lab. We are committed to advancing the field of biomedical AI and pushing the boundaries of medical data analysis. Your interest and contributions to our work are greatly appreciated. For more information about our lab and ongoing projects, please visit the [BioMind AI Lab website](https://sites.google.com/view/biomind-ai-lab). Thank you for your interest and support!"
   ]
  },
  {
   "cell_type": "markdown",
   "metadata": {},
   "source": [
    "This code checks whether the images have three RGB channels. If images lack three RGB channels this code converts those images to have the RGB channels."
   ]
  },
  {
   "cell_type": "code",
   "execution_count": null,
   "metadata": {},
   "outputs": [],
   "source": [
    "import os\n",
    "import numpy as np\n",
    "from PIL import Image\n",
    "\n",
    "def convert_to_rgb_and_resize_replace(input_dir, size=(512, 512)):\n",
    "    file_counter = 0\n",
    "    for filename in os.listdir(input_dir):\n",
    "        if filename.endswith(\".png\"):  # Process only PNG files\n",
    "            img_path = os.path.join(input_dir, filename)\n",
    "            image = Image.open(img_path).convert('L')  # Convert to grayscale\n",
    "            \n",
    "            # Convert grayscale to RGB by stacking the single channel three times\n",
    "            image_np = np.array(image)\n",
    "            image_rgb = np.stack((image_np,)*3, axis=-1)\n",
    "            \n",
    "            # Convert back to PIL image\n",
    "            image_rgb = Image.fromarray(image_rgb.astype('uint8'), 'RGB')\n",
    "            \n",
    "            # Resize the image\n",
    "            image_resized = image_rgb.resize(size)\n",
    "            \n",
    "            # Save the image to the same path, replacing the original file\n",
    "            image_resized.save(img_path)\n",
    "            file_counter += 1\n",
    "            print(f\"Image {filename} now has RGB channels.\")\n",
    "        else:\n",
    "            # Raise an error if the file is not a PNG\n",
    "            raise ValueError(f\"File '{filename}' is not a .png file. Please provide .png files only.\")\n",
    "    print(f\"Operation have been perfromed on {file_counter} images.\")\n",
    "\n",
    "\n",
    "# Define input directory\n",
    "input_directory = 'Datasets/X-ray Pneumonia/Validation/Pneumonia'   \n",
    "\n",
    "# Convert and resize images, replacing the original files\n",
    "try:\n",
    "    convert_to_rgb_and_resize_replace(input_directory)\n",
    "except ValueError as e:\n",
    "    print(e)"
   ]
  }
 ],
 "metadata": {
  "language_info": {
   "name": "python"
  }
 },
 "nbformat": 4,
 "nbformat_minor": 2
}
