{
 "cells": [
  {
   "cell_type": "markdown",
   "metadata": {},
   "source": [
    "<img src=\"https://github.com/PKhosravi-CityTech/LightCnnRad/raw/main/Images/BioMindLogo.png\" alt=\"BioMind AI Lab Logo\" width=\"150\" height=\"150\" align=\"left\" style=\"margin-bottom: 40px;\"> **Repository Developed by Pegah Khosravi, Principal Investigator of the BioMind AI Lab**\n",
    "\n",
    "Welcome to this repository! This repository is a result of collaborative efforts from our dedicated team at the lab. We are committed to advancing the field of biomedical AI and pushing the boundaries of medical data analysis. Your interest and contributions to our work are greatly appreciated. For more information about our lab and ongoing projects, please visit the [BioMind AI Lab website](https://sites.google.com/view/biomind-ai-lab). Thank you for your interest and support!"
   ]
  },
  {
   "cell_type": "markdown",
   "metadata": {},
   "source": [
    "This code squares rectangular images."
   ]
  },
  {
   "cell_type": "code",
   "execution_count": null,
   "metadata": {},
   "outputs": [],
   "source": [
    "import os\n",
    "import cv2\n",
    "import numpy as np\n",
    "\n",
    "# Input and output directories\n",
    "path = \"Datasets/X-ray Pneumonia/Test/No Pneumonia\"\n",
    "dest_path = \"Datasets/X-ray Pneumonia/Test/No Pneumonia\"\n",
    "\n",
    "\n",
    "# Ensure the output directory exists\n",
    "os.makedirs(dest_path, exist_ok=True)\n",
    "\n",
    "for img_name in os.listdir(path):\n",
    "    img_path = os.path.join(path, img_name)\n",
    "    print(img_name)\n",
    "    # Read the image\n",
    "    image = cv2.imread(img_path)\n",
    "    \n",
    "    if image is not None:\n",
    "        # Get the original dimensions\n",
    "        original_height, original_width = image.shape[:2]\n",
    "        \n",
    "        # Determine which side (height or width) is larger\n",
    "        larger_side = max(original_height, original_width)\n",
    "        \n",
    "        # Create a square canvas with the original resolution\n",
    "        square_canvas = np.zeros((larger_side, larger_side, 3), dtype=np.uint8)\n",
    "        \n",
    "        # Calculate the coordinates to paste the original image\n",
    "        y1 = (larger_side - original_height) // 2\n",
    "        y2 = y1 + original_height\n",
    "        x1 = (larger_side - original_width) // 2\n",
    "        x2 = x1 + original_width\n",
    "        \n",
    "        # Copy the original image onto the square canvas\n",
    "        square_canvas[y1:y2, x1:x2] = image\n",
    "        \n",
    "        # Save the squared image with the same name and format\n",
    "        dest_image_path = os.path.join(dest_path, img_name)\n",
    "        cv2.imwrite(dest_image_path, square_canvas)\n",
    "        \n",
    "        # Print the final resolution and dimensions\n",
    "        final_height, final_width = square_canvas.shape[:2]\n",
    "        print(f\"Image {img_name}: Resolution: {final_width} x {final_height}, Dimensions: {final_width} × {final_height}\")\n",
    "    else:\n",
    "        print(f\"Unable to read image: {img_name}\")\n",
    "\n",
    "print(\"Cropping complete. Images are now square without resizing.\")"
   ]
  }
 ],
 "metadata": {
  "language_info": {
   "name": "python"
  }
 },
 "nbformat": 4,
 "nbformat_minor": 2
}
